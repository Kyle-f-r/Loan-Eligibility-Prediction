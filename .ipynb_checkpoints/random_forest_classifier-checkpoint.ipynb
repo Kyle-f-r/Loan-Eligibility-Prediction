{
 "cells": [
  {
   "cell_type": "markdown",
   "metadata": {
    "id": "4GWfh0lCO7e7"
   },
   "source": [
    "# Data Exploration\n",
    "___\n",
    "\n",
    "The data contains the following attributes:\n",
    "\n",
    "* **Loan_ID**: Unique Loan ID\n",
    "* **Gender**: Gender of the applicant - Male/Female\n",
    "* **Married**: Whether the applicant is married or not (Yes/No)\n",
    "* **Dependents**: Number of dependents of the applicant\n",
    "* **Education**: Applicant's education (Graduate/Not Graduate)\n",
    "* **Self_Employed**: Whether the applicant is self-employed (Yes/No)\n",
    "* **ApplicantIncome**: The income of the applicant (\\$)\n",
    "* **CoapplicantIncome**: The co-applicant's income in case of a joint loan and 0 otherwise (\\$)\n",
    "* **LoanAmount**: Loan amount (dollars in thousands) \n",
    "* **Loan_Amount_Term**: Term of loan in months\n",
    "* **Credit_History**: Whether the applicant's credit history meets required guidelines\n",
    "* **Property_Area**: The area the property pertaining to the loan belongs to - Urban/Semi-Urban/Rural\n",
    "* **Loan_Status**: Loan approved (1 - Yes, 0 - No)"
   ]
  },
  {
   "cell_type": "markdown",
   "metadata": {
    "id": "tCM0C1YSO7ff"
   },
   "source": [
    "## Importing the necessary libraries and overview of the dataset\n",
    "___"
   ]
  },
  {
   "cell_type": "code",
   "execution_count": 1,
   "metadata": {
    "id": "HWgrS7UdO7fi"
   },
   "outputs": [],
   "source": [
    "# Import basic libraries\n",
    "import pandas as pd\n",
    "import numpy as np\n",
    "import matplotlib.pyplot as plt\n",
    "import seaborn as sns\n",
    "\n",
    "from sklearn.model_selection import train_test_split\n",
    "\n",
    "#Algorithms to use\n",
    "from sklearn.tree import DecisionTreeClassifier\n",
    "from sklearn import tree\n",
    "from sklearn.ensemble import RandomForestClassifier\n",
    "\n",
    "#Metrics to evaluate the model\n",
    "from sklearn.metrics import confusion_matrix, classification_report, recall_score\n",
    "from sklearn import metrics\n",
    "\n",
    "#For hyperparameter tuning\n",
    "from sklearn.model_selection import GridSearchCV\n",
    "\n",
    "import warnings\n",
    "warnings.filterwarnings(\"ignore\")"
   ]
  },
  {
   "cell_type": "code",
   "execution_count": 2,
   "metadata": {
    "id": "UTBJn4meO7fq",
    "outputId": "087d9d1f-e924-4e37-97a8-872a338df5f6",
    "scrolled": true
   },
   "outputs": [
    {
     "data": {
      "text/html": [
       "<div>\n",
       "<style scoped>\n",
       "    .dataframe tbody tr th:only-of-type {\n",
       "        vertical-align: middle;\n",
       "    }\n",
       "\n",
       "    .dataframe tbody tr th {\n",
       "        vertical-align: top;\n",
       "    }\n",
       "\n",
       "    .dataframe thead th {\n",
       "        text-align: right;\n",
       "    }\n",
       "</style>\n",
       "<table border=\"1\" class=\"dataframe\">\n",
       "  <thead>\n",
       "    <tr style=\"text-align: right;\">\n",
       "      <th></th>\n",
       "      <th>Loan_ID</th>\n",
       "      <th>Gender</th>\n",
       "      <th>Married</th>\n",
       "      <th>Dependents</th>\n",
       "      <th>Education</th>\n",
       "      <th>Self_Employed</th>\n",
       "      <th>ApplicantIncome</th>\n",
       "      <th>CoapplicantIncome</th>\n",
       "      <th>LoanAmount</th>\n",
       "      <th>Loan_Amount_Term</th>\n",
       "      <th>Credit_History</th>\n",
       "      <th>Property_Area</th>\n",
       "      <th>Loan_Status</th>\n",
       "    </tr>\n",
       "  </thead>\n",
       "  <tbody>\n",
       "    <tr>\n",
       "      <th>0</th>\n",
       "      <td>LP001002</td>\n",
       "      <td>Male</td>\n",
       "      <td>No</td>\n",
       "      <td>0</td>\n",
       "      <td>Graduate</td>\n",
       "      <td>No</td>\n",
       "      <td>5849</td>\n",
       "      <td>0.0</td>\n",
       "      <td>0</td>\n",
       "      <td>360.0</td>\n",
       "      <td>1.0</td>\n",
       "      <td>Urban</td>\n",
       "      <td>1</td>\n",
       "    </tr>\n",
       "    <tr>\n",
       "      <th>1</th>\n",
       "      <td>LP001003</td>\n",
       "      <td>Male</td>\n",
       "      <td>Yes</td>\n",
       "      <td>1</td>\n",
       "      <td>Graduate</td>\n",
       "      <td>No</td>\n",
       "      <td>4583</td>\n",
       "      <td>1508.0</td>\n",
       "      <td>128</td>\n",
       "      <td>360.0</td>\n",
       "      <td>1.0</td>\n",
       "      <td>Rural</td>\n",
       "      <td>0</td>\n",
       "    </tr>\n",
       "    <tr>\n",
       "      <th>2</th>\n",
       "      <td>LP001005</td>\n",
       "      <td>Male</td>\n",
       "      <td>Yes</td>\n",
       "      <td>0</td>\n",
       "      <td>Graduate</td>\n",
       "      <td>Yes</td>\n",
       "      <td>3000</td>\n",
       "      <td>0.0</td>\n",
       "      <td>66</td>\n",
       "      <td>360.0</td>\n",
       "      <td>1.0</td>\n",
       "      <td>Urban</td>\n",
       "      <td>1</td>\n",
       "    </tr>\n",
       "    <tr>\n",
       "      <th>3</th>\n",
       "      <td>LP001006</td>\n",
       "      <td>Male</td>\n",
       "      <td>Yes</td>\n",
       "      <td>0</td>\n",
       "      <td>Not Graduate</td>\n",
       "      <td>No</td>\n",
       "      <td>2583</td>\n",
       "      <td>2358.0</td>\n",
       "      <td>120</td>\n",
       "      <td>360.0</td>\n",
       "      <td>1.0</td>\n",
       "      <td>Urban</td>\n",
       "      <td>1</td>\n",
       "    </tr>\n",
       "    <tr>\n",
       "      <th>4</th>\n",
       "      <td>LP001008</td>\n",
       "      <td>Male</td>\n",
       "      <td>No</td>\n",
       "      <td>0</td>\n",
       "      <td>Graduate</td>\n",
       "      <td>No</td>\n",
       "      <td>6000</td>\n",
       "      <td>0.0</td>\n",
       "      <td>141</td>\n",
       "      <td>360.0</td>\n",
       "      <td>1.0</td>\n",
       "      <td>Urban</td>\n",
       "      <td>1</td>\n",
       "    </tr>\n",
       "  </tbody>\n",
       "</table>\n",
       "</div>"
      ],
      "text/plain": [
       "    Loan_ID Gender Married Dependents     Education Self_Employed  \\\n",
       "0  LP001002   Male      No          0      Graduate            No   \n",
       "1  LP001003   Male     Yes          1      Graduate            No   \n",
       "2  LP001005   Male     Yes          0      Graduate           Yes   \n",
       "3  LP001006   Male     Yes          0  Not Graduate            No   \n",
       "4  LP001008   Male      No          0      Graduate            No   \n",
       "\n",
       "   ApplicantIncome  CoapplicantIncome  LoanAmount  Loan_Amount_Term  \\\n",
       "0             5849                0.0           0             360.0   \n",
       "1             4583             1508.0         128             360.0   \n",
       "2             3000                0.0          66             360.0   \n",
       "3             2583             2358.0         120             360.0   \n",
       "4             6000                0.0         141             360.0   \n",
       "\n",
       "   Credit_History Property_Area  Loan_Status  \n",
       "0             1.0         Urban            1  \n",
       "1             1.0         Rural            0  \n",
       "2             1.0         Urban            1  \n",
       "3             1.0         Urban            1  \n",
       "4             1.0         Urban            1  "
      ]
     },
     "execution_count": 2,
     "metadata": {},
     "output_type": "execute_result"
    }
   ],
   "source": [
    "data = pd.read_csv(\"CreditRisk.csv\")\n",
    "data.head()"
   ]
  },
  {
   "cell_type": "code",
   "execution_count": 3,
   "metadata": {
    "id": "i1ki3y1vO7gI",
    "outputId": "99969b10-df9c-4360-ad91-8d2a2847fc57",
    "scrolled": true
   },
   "outputs": [
    {
     "name": "stdout",
     "output_type": "stream",
     "text": [
      "<class 'pandas.core.frame.DataFrame'>\n",
      "RangeIndex: 614 entries, 0 to 613\n",
      "Data columns (total 13 columns):\n",
      " #   Column             Non-Null Count  Dtype  \n",
      "---  ------             --------------  -----  \n",
      " 0   Loan_ID            614 non-null    object \n",
      " 1   Gender             601 non-null    object \n",
      " 2   Married            611 non-null    object \n",
      " 3   Dependents         599 non-null    object \n",
      " 4   Education          614 non-null    object \n",
      " 5   Self_Employed      582 non-null    object \n",
      " 6   ApplicantIncome    614 non-null    int64  \n",
      " 7   CoapplicantIncome  614 non-null    float64\n",
      " 8   LoanAmount         614 non-null    int64  \n",
      " 9   Loan_Amount_Term   600 non-null    float64\n",
      " 10  Credit_History     564 non-null    float64\n",
      " 11  Property_Area      614 non-null    object \n",
      " 12  Loan_Status        614 non-null    int64  \n",
      "dtypes: float64(3), int64(3), object(7)\n",
      "memory usage: 62.5+ KB\n"
     ]
    }
   ],
   "source": [
    "data.info()"
   ]
  },
  {
   "cell_type": "markdown",
   "metadata": {
    "id": "ZkaIUWERO7gL"
   },
   "source": [
    "### Observations\n",
    "\n",
    "- There are **614 observations and 13 columns** in the data.\n",
    "- ApplicantIncome, CoapplicantIncome, LoanAmount, Loan_Amount_Term, Credit_History, and Loan_Status are numeric data types. **The rest of the variables are of the object data type.**\n",
    "- There are several columns with less than 614 non-null entries i.e. **these columns have missing values.**\n",
    "- **Loan_ID column is an identifier.** Let's check if each entry of the column is unique."
   ]
  },
  {
   "cell_type": "code",
   "execution_count": 4,
   "metadata": {
    "id": "4gLzBxziO7gX",
    "outputId": "a55f342b-861d-43fd-9635-12e238824157",
    "scrolled": true
   },
   "outputs": [
    {
     "data": {
      "text/plain": [
       "614"
      ]
     },
     "execution_count": 4,
     "metadata": {},
     "output_type": "execute_result"
    }
   ],
   "source": [
    "data.Loan_ID.nunique()"
   ]
  },
  {
   "cell_type": "markdown",
   "metadata": {
    "id": "hFmPeGCjO7gb"
   },
   "source": [
    "### Observations\n",
    "- We can see that **all the entries of this column are unique.** Hence, this column would not add any value to our analysis. \n",
    "- Let's drop this column."
   ]
  },
  {
   "cell_type": "code",
   "execution_count": 5,
   "metadata": {
    "id": "fjtZPbQrO7gp"
   },
   "outputs": [],
   "source": [
    "data.drop(columns=['Loan_ID'], inplace=True)"
   ]
  },
  {
   "cell_type": "markdown",
   "metadata": {
    "id": "y_2yAAi7O7gq"
   },
   "source": [
    "## Summary Statistics for numerical columns\n",
    "___"
   ]
  },
  {
   "cell_type": "code",
   "execution_count": 6,
   "metadata": {
    "id": "psLyeifzO7gz",
    "outputId": "645a4565-e6ac-4380-ee81-7ea0f7975c3e"
   },
   "outputs": [
    {
     "data": {
      "text/html": [
       "<div>\n",
       "<style scoped>\n",
       "    .dataframe tbody tr th:only-of-type {\n",
       "        vertical-align: middle;\n",
       "    }\n",
       "\n",
       "    .dataframe tbody tr th {\n",
       "        vertical-align: top;\n",
       "    }\n",
       "\n",
       "    .dataframe thead th {\n",
       "        text-align: right;\n",
       "    }\n",
       "</style>\n",
       "<table border=\"1\" class=\"dataframe\">\n",
       "  <thead>\n",
       "    <tr style=\"text-align: right;\">\n",
       "      <th></th>\n",
       "      <th>count</th>\n",
       "      <th>mean</th>\n",
       "      <th>std</th>\n",
       "      <th>min</th>\n",
       "      <th>25%</th>\n",
       "      <th>50%</th>\n",
       "      <th>75%</th>\n",
       "      <th>max</th>\n",
       "    </tr>\n",
       "  </thead>\n",
       "  <tbody>\n",
       "    <tr>\n",
       "      <th>ApplicantIncome</th>\n",
       "      <td>614.0</td>\n",
       "      <td>5403.459283</td>\n",
       "      <td>6109.041673</td>\n",
       "      <td>150.0</td>\n",
       "      <td>2877.5</td>\n",
       "      <td>3812.5</td>\n",
       "      <td>5795.00</td>\n",
       "      <td>81000.0</td>\n",
       "    </tr>\n",
       "    <tr>\n",
       "      <th>CoapplicantIncome</th>\n",
       "      <td>614.0</td>\n",
       "      <td>1621.245798</td>\n",
       "      <td>2926.248369</td>\n",
       "      <td>0.0</td>\n",
       "      <td>0.0</td>\n",
       "      <td>1188.5</td>\n",
       "      <td>2297.25</td>\n",
       "      <td>41667.0</td>\n",
       "    </tr>\n",
       "    <tr>\n",
       "      <th>LoanAmount</th>\n",
       "      <td>614.0</td>\n",
       "      <td>141.166124</td>\n",
       "      <td>88.340630</td>\n",
       "      <td>0.0</td>\n",
       "      <td>98.0</td>\n",
       "      <td>125.0</td>\n",
       "      <td>164.75</td>\n",
       "      <td>700.0</td>\n",
       "    </tr>\n",
       "    <tr>\n",
       "      <th>Loan_Amount_Term</th>\n",
       "      <td>600.0</td>\n",
       "      <td>342.000000</td>\n",
       "      <td>65.120410</td>\n",
       "      <td>12.0</td>\n",
       "      <td>360.0</td>\n",
       "      <td>360.0</td>\n",
       "      <td>360.00</td>\n",
       "      <td>480.0</td>\n",
       "    </tr>\n",
       "  </tbody>\n",
       "</table>\n",
       "</div>"
      ],
      "text/plain": [
       "                   count         mean          std    min     25%     50%  \\\n",
       "ApplicantIncome    614.0  5403.459283  6109.041673  150.0  2877.5  3812.5   \n",
       "CoapplicantIncome  614.0  1621.245798  2926.248369    0.0     0.0  1188.5   \n",
       "LoanAmount         614.0   141.166124    88.340630    0.0    98.0   125.0   \n",
       "Loan_Amount_Term   600.0   342.000000    65.120410   12.0   360.0   360.0   \n",
       "\n",
       "                       75%      max  \n",
       "ApplicantIncome    5795.00  81000.0  \n",
       "CoapplicantIncome  2297.25  41667.0  \n",
       "LoanAmount          164.75    700.0  \n",
       "Loan_Amount_Term    360.00    480.0  "
      ]
     },
     "execution_count": 6,
     "metadata": {},
     "output_type": "execute_result"
    }
   ],
   "source": [
    "#Creating a list of numerical columns\n",
    "num_cols = ['ApplicantIncome', 'CoapplicantIncome', 'LoanAmount', 'Loan_Amount_Term']\n",
    "\n",
    "data[num_cols].describe().T"
   ]
  },
  {
   "cell_type": "markdown",
   "metadata": {
    "id": "d8uDsaE3O7g1"
   },
   "source": [
    "### Observations\n",
    "\n",
    "- The average income of applicants is about 5,403 dollars. It has a large range of values from 150 to 81,000. It would be interesting to see if low applicant income implies a low loan amount.\n",
    "- The average co-applicant income is about 1,621 dollars which is much lower than the applicant's income. The 25th percentile value is 0 and the median value is 1,188 dollars which implies that the number of joint home loans is more than the number of non-joint loans.\n",
    "- The two columns `ApplicantIncome` and `CoapplicantIncome` give the same information i.e. income of applicants. It would be better to have that information in one column only. We can add these two columns to get the total income per application.\n",
    "- The 25th, 50th, and 75th percentile value of the loan term is 360 months i.e. 30 years. This implies that the majority of home loans in this dataset are for 30 years of term.\n",
    "- We can convert the scale of the loan term from months to years to make it easier to read.\n",
    "- The average loan amount is 141 dollars. It has a large range of values, which is to be expected. \n",
    "- The loan amount has zero values, which is absurd since loan amounts are meant to be non-zero. So we can treat 0's as missing values.\n",
    "\n",
    "Before imputing the missing values and 0's in `LoanAmount`, let's do some feature engineering and check the distributions, counts, and outliers for different variables."
   ]
  },
  {
   "cell_type": "markdown",
   "metadata": {
    "id": "Ad8XRsk2O7g7"
   },
   "source": [
    "## Feature Engineering\n",
    "___"
   ]
  },
  {
   "cell_type": "code",
   "execution_count": 7,
   "metadata": {
    "id": "Q3hc42zOO7g8"
   },
   "outputs": [],
   "source": [
    "# Converting the scale of loan term from months to years\n",
    "data['Loan_Amount_Term']=data['Loan_Amount_Term']/12"
   ]
  },
  {
   "cell_type": "code",
   "execution_count": 8,
   "metadata": {
    "id": "SB_h92fNO7g-"
   },
   "outputs": [],
   "source": [
    "# Adding the applicant and co-applicant income to get the total income per application\n",
    "data['total_income']=data['ApplicantIncome'] + data['CoapplicantIncome']"
   ]
  },
  {
   "cell_type": "code",
   "execution_count": 9,
   "metadata": {
    "id": "DHLiPJYzO7hD"
   },
   "outputs": [],
   "source": [
    "# Dropping the columns as we created a new column which captures the same information\n",
    "data.drop(columns=['ApplicantIncome', 'CoapplicantIncome'], inplace=True)"
   ]
  },
  {
   "cell_type": "code",
   "execution_count": 10,
   "metadata": {
    "id": "AA2J6KT6O7hG",
    "outputId": "5d5fa96a-ea9d-4765-daa1-35a468a35f3d"
   },
   "outputs": [
    {
     "name": "stdout",
     "output_type": "stream",
     "text": [
      "Male      0.813644\n",
      "Female    0.186356\n",
      "Name: Gender, dtype: float64\n",
      "****************************************\n",
      "Yes    0.651391\n",
      "No     0.348609\n",
      "Name: Married, dtype: float64\n",
      "****************************************\n",
      "0     0.575960\n",
      "1     0.170284\n",
      "2     0.168614\n",
      "3+    0.085142\n",
      "Name: Dependents, dtype: float64\n",
      "****************************************\n",
      "Graduate        0.781759\n",
      "Not Graduate    0.218241\n",
      "Name: Education, dtype: float64\n",
      "****************************************\n",
      "No     0.859107\n",
      "Yes    0.140893\n",
      "Name: Self_Employed, dtype: float64\n",
      "****************************************\n",
      "1.0    0.842199\n",
      "0.0    0.157801\n",
      "Name: Credit_History, dtype: float64\n",
      "****************************************\n",
      "Semiurban    0.379479\n",
      "Urban        0.328990\n",
      "Rural        0.291531\n",
      "Name: Property_Area, dtype: float64\n",
      "****************************************\n",
      "1    0.687296\n",
      "0    0.312704\n",
      "Name: Loan_Status, dtype: float64\n",
      "****************************************\n"
     ]
    }
   ],
   "source": [
    "# Creating list of categorical columns\n",
    "# Check the percentage of each classifier\n",
    "cat_col= ['Gender', 'Married', 'Dependents', 'Education', 'Self_Employed', 'Credit_History','Property_Area', 'Loan_Status']\n",
    "\n",
    "for col in cat_col:\n",
    "    print(data[col].value_counts(normalize=True))  #The parameter normalize=True gives the percentage of each category\n",
    "    print('*'*40)                                  #Print the * 40 times to separate different variables"
   ]
  },
  {
   "cell_type": "markdown",
   "metadata": {
    "id": "UpuwOACuO7hI"
   },
   "source": [
    "### Observations\n",
    "\n",
    "- Percentage of male customers (approx 81%) is more than the percentage of female customers (approx 19%).\n",
    "- About 65% of customers are married. This indicates that married people apply more for the home loan as compared to non-married people.\n",
    "- The majority of customers have 0 or 1 dependents. Some of these entries are 3+ which means 3 or more dependents. Since we don't know the actual number, we can treat this as a separate category.\n",
    "- About 78% of customers are graduate. It looks like the majority of customers are educated.\n",
    "- Only ~14% of customers are self-employed. This indicates that salaried people apply more for the home loan.\n",
    "- The majority of customers, about 84%, have credit history as per the required guidelines.\n",
    "- The count of observations is approximately evenly distributed among Urban, Semi-Urban, and Rural areas. This implies that the company has a presence in all kinds of areas.\n",
    "- The number of home loans approved is comparatively higher than the number of those not approved. About 69% of applied loans get approved. Although we have limited data, the reason for this could either be a fairly lenient attitude from the company towards approving loans OR that many of the customers applying for these home loans are actually eligible for them."
   ]
  },
  {
   "cell_type": "markdown",
   "metadata": {
    "id": "frx2ZYaeO7ha"
   },
   "source": [
    "## Imputing missing values\n",
    "___"
   ]
  },
  {
   "cell_type": "code",
   "execution_count": 11,
   "metadata": {
    "id": "8fW0Z4u9O7hc"
   },
   "outputs": [],
   "source": [
    "#Imputing missing values with mode for the categorical variables \n",
    "for col in ['Gender', 'Married', 'Dependents', 'Self_Employed', 'Loan_Amount_Term', 'Credit_History']:\n",
    "    data[col].fillna(value=data[col].mode()[0], inplace=True)"
   ]
  },
  {
   "cell_type": "code",
   "execution_count": 12,
   "metadata": {
    "id": "vODNuyMLO7hd"
   },
   "outputs": [],
   "source": [
    "#Replacing 0's with null values in loan amount \n",
    "data.LoanAmount.replace(0, np.nan, inplace=True)\n",
    "\n",
    "#Imputing null values in loan amount with the median\n",
    "data.LoanAmount.fillna(value=data.LoanAmount.median(), inplace=True)"
   ]
  },
  {
   "cell_type": "markdown",
   "metadata": {
    "id": "zHsHD8S3O7hf"
   },
   "source": [
    "## Train-Test Split\n",
    "___"
   ]
  },
  {
   "cell_type": "code",
   "execution_count": 13,
   "metadata": {
    "id": "ia9I9xy7O7hg"
   },
   "outputs": [],
   "source": [
    "#Separating target variable and other variables\n",
    "X=data.drop(columns='Loan_Status')\n",
    "Y=data['Loan_Status']"
   ]
  },
  {
   "cell_type": "code",
   "execution_count": 14,
   "metadata": {
    "id": "eHbwSygpO7hh"
   },
   "outputs": [],
   "source": [
    "#Creating dummy variables \n",
    "#drop_first=True is used to avoid redundant variables\n",
    "X = pd.get_dummies(X, drop_first=True)"
   ]
  },
  {
   "cell_type": "code",
   "execution_count": 15,
   "metadata": {
    "id": "jzevkL5mO7hi"
   },
   "outputs": [],
   "source": [
    "#Splitting the data into train and test sets\n",
    "X_train,X_test,y_train,y_test=train_test_split(X, Y, test_size=0.30, random_state=7)"
   ]
  },
  {
   "cell_type": "markdown",
   "metadata": {
    "id": "2-sTuiJdO7hj"
   },
   "source": [
    "## Building Classification Models\n",
    "___"
   ]
  },
  {
   "cell_type": "markdown",
   "metadata": {
    "id": "jhGfGwRCO7hm"
   },
   "source": [
    "**Before training the model, let's choose the appropriate model evaluation criterion as per the problem on hand.**\n",
    "\n",
    "### Model evaluation criterion:\n",
    "\n",
    "#### Since this is a binary classification problem, the model can make wrong predictions in one of two ways:\n",
    "1. Predicting a customer is not eligible for a loan when the customer actually is eligible - **Loss of opportunity**\n",
    "2. Predicting a customer is eligible for a loan when the customer is actually not - **Financial Loss**\n",
    "\n",
    "#### Which case is more important? \n",
    "* **Predicting that the customer is eligible when he is not**, because the person might default or not be able to return the loan, which would result in financial loss to the company.\n",
    "\n",
    "#### How to reduce this loss i.e need to reduce False Negatives?\n",
    "* In classification, the class of interest is considered the positive class. Here, the class of interest is 0 i.e. identifying non-eligible customers. So, the company wants to minimize the number of false negatives, in other words **Recall** is the evaluation criterion to be maximized."
   ]
  },
  {
   "cell_type": "code",
   "execution_count": 16,
   "metadata": {
    "id": "lknK3VvDO7hx"
   },
   "outputs": [],
   "source": [
    "#function to print classification report and get confusion matrix in a proper format\n",
    "\n",
    "def metrics_score(actual, predicted):\n",
    "    print(classification_report(actual, predicted))\n",
    "    cm = confusion_matrix(actual, predicted)\n",
    "    plt.figure(figsize=(8,5))\n",
    "    sns.heatmap(cm, annot=True,  fmt='.2f', xticklabels=['Not Eligible', 'Eligible'], yticklabels=['Not Eligible', 'Eligible'])\n",
    "    plt.ylabel('Actual')\n",
    "    plt.xlabel('Predicted')\n",
    "    plt.show()"
   ]
  },
  {
   "cell_type": "markdown",
   "metadata": {
    "id": "OO2u6BuIO7js"
   },
   "source": [
    "## Random Forest Classifier\n",
    "___"
   ]
  },
  {
   "cell_type": "code",
   "execution_count": 17,
   "metadata": {
    "id": "9ZZBHm5wO7ju"
   },
   "outputs": [
    {
     "data": {
      "text/plain": [
       "RandomForestClassifier(random_state=1)"
      ]
     },
     "execution_count": 17,
     "metadata": {},
     "output_type": "execute_result"
    }
   ],
   "source": [
    "#Fitting the decision tree classifier on the training data\n",
    "rf_estimator = RandomForestClassifier(random_state=1)\n",
    "\n",
    "rf_estimator.fit(X_train,y_train)"
   ]
  },
  {
   "cell_type": "markdown",
   "metadata": {
    "id": "EqP5pHP9O7jv"
   },
   "source": [
    "**Let's check the performance of the model on the training data:**"
   ]
  },
  {
   "cell_type": "code",
   "execution_count": 18,
   "metadata": {
    "id": "DbN7ygMQO7jw"
   },
   "outputs": [
    {
     "name": "stdout",
     "output_type": "stream",
     "text": [
      "              precision    recall  f1-score   support\n",
      "\n",
      "           0       1.00      1.00      1.00       131\n",
      "           1       1.00      1.00      1.00       298\n",
      "\n",
      "    accuracy                           1.00       429\n",
      "   macro avg       1.00      1.00      1.00       429\n",
      "weighted avg       1.00      1.00      1.00       429\n",
      "\n"
     ]
    },
    {
     "data": {
      "image/png": "[encoded data removed]",
      "text/plain": [
       "<Figure size 800x500 with 2 Axes>"
      ]
     },
     "metadata": {},
     "output_type": "display_data"
    }
   ],
   "source": [
    "#Checking performance on the training data\n",
    "y_pred_train3 = rf_estimator.predict(X_train)\n",
    "metrics_score(y_train, y_pred_train3)"
   ]
  },
  {
   "cell_type": "markdown",
   "metadata": {
    "id": "-qNhC43Y1AOY"
   },
   "source": [
    "### Observations\n",
    "- on the training dataset, the performance was 100% in that the predicted values matched the actual values. Overfitting can be a possibility so let's check the performance on the test set."
   ]
  },
  {
   "cell_type": "code",
   "execution_count": 19,
   "metadata": {
    "id": "7eoRv4jcO7j1"
   },
   "outputs": [
    {
     "name": "stdout",
     "output_type": "stream",
     "text": [
      "              precision    recall  f1-score   support\n",
      "\n",
      "           0       0.81      0.49      0.61        61\n",
      "           1       0.79      0.94      0.86       124\n",
      "\n",
      "    accuracy                           0.79       185\n",
      "   macro avg       0.80      0.72      0.74       185\n",
      "weighted avg       0.80      0.79      0.78       185\n",
      "\n"
     ]
    },
    {
     "data": {
      "image/png": "[encoded data removed]",
      "text/plain": [
       "<Figure size 800x500 with 2 Axes>"
      ]
     },
     "metadata": {},
     "output_type": "display_data"
    }
   ],
   "source": [
    "#Checking performance on the testing data\n",
    "y_pred_test3 = rf_estimator.predict(X_test)\n",
    "metrics_score(y_test, y_pred_test3)"
   ]
  },
  {
   "cell_type": "markdown",
   "metadata": {
    "id": "ZtvgL8yS1AOZ"
   },
   "source": [
    "### Observations\n",
    "- Overfitting did occur since the recall for the test set was 49%.\n",
    "\n",
    "In order to improve the model, I'll perform parameter tuning using Grid Search."
   ]
  },
  {
   "cell_type": "markdown",
   "metadata": {
    "id": "9iADMfV-O7j3"
   },
   "source": [
    "## **Random Forest Classifier - Hyperparameter Tuning**"
   ]
  },
  {
   "cell_type": "code",
   "execution_count": 20,
   "metadata": {
    "id": "-3uYE75-O7j4"
   },
   "outputs": [],
   "source": [
    "# Choose the type of classifier\n",
    "rf_estimator_tuned = RandomForestClassifier(criterion=\"entropy\", random_state=7)\n",
    "\n",
    "# Grid of parameters to choose from\n",
    "parameters = {\"n_estimators\": [100, 110, 120],\n",
    "    \"max_depth\": [5, 6, 7],\n",
    "    \"max_features\": [0.8, 0.9, 1]\n",
    "             }\n",
    "\n",
    "# Type of scoring used to compare parameter combinations - recall score for class 0\n",
    "scorer = metrics.make_scorer(recall_score, pos_label=0)\n",
    "\n",
    "# Run the grid search\n",
    "grid_obj = GridSearchCV(rf_estimator_tuned, parameters, scoring=scorer, cv=5)\n",
    "grid_obj = grid_obj.fit(X_train, y_train)\n",
    "\n",
    "# Set the classifier to the best combination of parameters\n",
    "rf_estimator_tuned = grid_obj.best_estimator_"
   ]
  },
  {
   "cell_type": "code",
   "execution_count": 21,
   "metadata": {
    "id": "o6DLcoGzO7j5",
    "outputId": "67c08c0f-f913-42b5-92f9-d38484c57030"
   },
   "outputs": [
    {
     "data": {
      "text/plain": [
       "RandomForestClassifier(criterion='entropy', max_depth=5, max_features=0.9,\n",
       "                       n_estimators=110, random_state=7)"
      ]
     },
     "execution_count": 21,
     "metadata": {},
     "output_type": "execute_result"
    }
   ],
   "source": [
    "#Fitting the best algorithm to the training data\n",
    "rf_estimator_tuned.fit(X_train, y_train)"
   ]
  },
  {
   "cell_type": "code",
   "execution_count": 22,
   "metadata": {
    "id": "OVXmmXdVO7j7",
    "outputId": "4fe6efba-e829-4c7a-8dcb-23ea829d0c3e",
    "scrolled": false
   },
   "outputs": [
    {
     "name": "stdout",
     "output_type": "stream",
     "text": [
      "              precision    recall  f1-score   support\n",
      "\n",
      "           0       0.98      0.48      0.65       131\n",
      "           1       0.81      1.00      0.90       298\n",
      "\n",
      "    accuracy                           0.84       429\n",
      "   macro avg       0.90      0.74      0.77       429\n",
      "weighted avg       0.87      0.84      0.82       429\n",
      "\n"
     ]
    },
    {
     "data": {
      "image/png": "[encoded data removed]",
      "text/plain": [
       "<Figure size 800x500 with 2 Axes>"
      ]
     },
     "metadata": {},
     "output_type": "display_data"
    }
   ],
   "source": [
    "#Checking performance on the training data\n",
    "y_pred_train4 = rf_estimator_tuned.predict(X_train)\n",
    "metrics_score(y_train, y_pred_train4)"
   ]
  },
  {
   "cell_type": "markdown",
   "metadata": {
    "id": "tZ7AEkUmO7j8"
   },
   "source": [
    "### Observations\n",
    "- We can see that after hyperparameter tuning, the model is performing poorly on the train data as well.\n",
    "- We can try adding some other hyperparameters and/or changing values of some hyperparameters to tune the model and see if we can get a better performance."
   ]
  },
  {
   "cell_type": "code",
   "execution_count": 23,
   "metadata": {
    "id": "9XUQucgwO7kG"
   },
   "outputs": [
    {
     "data": {
      "text/plain": [
       "RandomForestClassifier(class_weight={0: 0.4, 1: 0.1}, criterion='entropy',\n",
       "                       max_depth=6, max_features=0.8, max_samples=0.9,\n",
       "                       min_samples_leaf=25, n_estimators=120, random_state=7)"
      ]
     },
     "execution_count": 23,
     "metadata": {},
     "output_type": "execute_result"
    }
   ],
   "source": [
    "# Choose the type of classifier\n",
    "rf_estimator_tuned = RandomForestClassifier(criterion=\"entropy\", random_state=7)\n",
    "\n",
    "# Grid of parameters to choose from\n",
    "parameters = {\"n_estimators\": [110, 120],\n",
    "    \"max_depth\": [6, 7],\n",
    "    \"min_samples_leaf\": [20, 25],\n",
    "    \"max_features\": [0.8, 0.9],\n",
    "    \"max_samples\": [0.9, 1],\n",
    "    \"class_weight\": [{0:0.7, 1:0.3}, \"balanced\", {0:0.4, 1:0.1}]\n",
    "             }\n",
    "\n",
    "# Type of scoring used to compare parameter combinations - recall score for class 0\n",
    "scorer = metrics.make_scorer(recall_score, pos_label=0)\n",
    "\n",
    "# Run the grid search on the training data using scorer=scorer and cv=5\n",
    "grid_obj = GridSearchCV(rf_estimator_tuned, parameters, scoring=scorer, cv=5)\n",
    "grid_obj = grid_obj.fit(X_train, y_train)\n",
    "\n",
    "# Save the best estimator to variable rf_estimator_tuned\n",
    "rf_estimator_tuned = grid_obj.best_estimator_\n",
    "\n",
    "#Fit the best estimator to the training data\n",
    "rf_estimator_tuned.fit(X_train, y_train)"
   ]
  },
  {
   "cell_type": "markdown",
   "metadata": {
    "id": "9Id5gfK2O7kK"
   },
   "source": [
    "Let's check the performance of the tuned model."
   ]
  },
  {
   "cell_type": "code",
   "execution_count": 24,
   "metadata": {
    "id": "-KmNFiv9O7kL"
   },
   "outputs": [
    {
     "name": "stdout",
     "output_type": "stream",
     "text": [
      "              precision    recall  f1-score   support\n",
      "\n",
      "           0       0.52      0.85      0.65       131\n",
      "           1       0.91      0.65      0.76       298\n",
      "\n",
      "    accuracy                           0.71       429\n",
      "   macro avg       0.71      0.75      0.70       429\n",
      "weighted avg       0.79      0.71      0.72       429\n",
      "\n"
     ]
    },
    {
     "data": {
      "image/png": "[encoded data removed]",
      "text/plain": [
       "<Figure size 800x500 with 2 Axes>"
      ]
     },
     "metadata": {},
     "output_type": "display_data"
    }
   ],
   "source": [
    "#Checking performance on the training data\n",
    "y_pred_train5 = rf_estimator_tuned.predict(X_train)\n",
    "metrics_score(y_train, y_pred_train5)"
   ]
  },
  {
   "cell_type": "markdown",
   "metadata": {
    "id": "_sL9NN0y1AOb"
   },
   "source": [
    "### Observations\n",
    "- With the parameters tuned, the recall increased from 0.48 to 0.85. This is what we are looking for to decrease the chance of predicting \"eligible\" when they are \"not eligible\"\n",
    "- the precision decreased from 0.98 to 0.52; however, as we stated before, the chance of classifying a borrower who is eligible as not eligible is not as important in decreasing compared to the reverse, the false negative case.\n",
    "\n",
    "Let's check the performance on the test set."
   ]
  },
  {
   "cell_type": "code",
   "execution_count": 25,
   "metadata": {
    "id": "3Loo6OLKO7kY"
   },
   "outputs": [
    {
     "name": "stdout",
     "output_type": "stream",
     "text": [
      "              precision    recall  f1-score   support\n",
      "\n",
      "           0       0.50      0.70      0.59        61\n",
      "           1       0.82      0.65      0.73       124\n",
      "\n",
      "    accuracy                           0.67       185\n",
      "   macro avg       0.66      0.68      0.66       185\n",
      "weighted avg       0.71      0.67      0.68       185\n",
      "\n"
     ]
    },
    {
     "data": {
      "image/png": "[encoded data removed]",
      "text/plain": [
       "<Figure size 800x500 with 2 Axes>"
      ]
     },
     "metadata": {},
     "output_type": "display_data"
    }
   ],
   "source": [
    "#Checking performance on the testing data\n",
    "y_pred_test5 = rf_estimator_tuned.predict(X_test)\n",
    "metrics_score(y_test, y_pred_test5)"
   ]
  },
  {
   "cell_type": "markdown",
   "metadata": {
    "id": "pYhZ3-ioO7ka"
   },
   "source": [
    "### Observations\n",
    "- The recall was found to be 0.70, which has been the highest value for test data sets compared to all previous methods."
   ]
  },
  {
   "cell_type": "markdown",
   "metadata": {
    "id": "DCg7SaRTO7kb"
   },
   "source": [
    "**One of the drawbacks of ensemble models is that we lose the ability to obtain an interpretation of the model. We cannot observe the decision rules for random forests the way we did for decision trees. So, let's just check the feature importances of the model.**"
   ]
  },
  {
   "cell_type": "code",
   "execution_count": 26,
   "metadata": {
    "id": "i_E_LpzLO7kl",
    "outputId": "8dabfa51-ea81-4da8-8cb9-b75fce7d8ae3"
   },
   "outputs": [
    {
     "data": {
      "image/png": "[encoded data removed]",
      "text/plain": [
       "<Figure size 1200x1200 with 1 Axes>"
      ]
     },
     "metadata": {},
     "output_type": "display_data"
    }
   ],
   "source": [
    "importances = rf_estimator_tuned.feature_importances_\n",
    "indices = np.argsort(importances)\n",
    "feature_names = list(X.columns)\n",
    "\n",
    "plt.figure(figsize=(12,12))\n",
    "plt.title('Feature Importances')\n",
    "plt.barh(range(len(indices)), importances[indices], color='violet', align='center')\n",
    "plt.yticks(range(len(indices)), [feature_names[i] for i in indices])\n",
    "plt.xlabel('Relative Importance')\n",
    "plt.show()"
   ]
  },
  {
   "cell_type": "markdown",
   "metadata": {
    "id": "D-4c6HACO7ko"
   },
   "source": [
    "### Observations\n",
    "- The tope three important features are credit history, total income, and loan amount.\n",
    "- As was seen in the decision tree diagram, the classification for eligibility is rooted in total income and loan amount being proportional. So, if the loan amount is high, then the income should be high to be eligible. The opposite is also true for ineligibility."
   ]
  },
  {
   "cell_type": "markdown",
   "metadata": {
    "id": "dZ-0Sv5TO7kp"
   },
   "source": [
    "## Conclusion and Recommendations\n",
    "___"
   ]
  },
  {
   "cell_type": "markdown",
   "metadata": {
    "id": "vo8q0lEHO7kr"
   },
   "source": [
    "The strongest factors for predicting loan eligibility is credit history, total income, loan amount, if one lives in a semiurban area, and if one is married. The best model so far was using random forest and tuning the parameters, which resulted in a recall of 70% on the test data.\n",
    "\n",
    "It is recommended to use the random forest model to decrease recall for loan eligibility. Although the recall on the test data was 70%, the parameters can be tuned more to determine a better model for recall improvement. At the current state, it is not recommended to switch to this model completely.\n",
    "\n",
    "If Easy House decides to use the model in conjunction with a manual process (done by a worker), the company should continue to monitor credit history as a strong classifier for eligibility. Also, if Easy House would like a higher certainty in predicting, then the company should focus more loan product in semiurban areas.  "
   ]
  }
 ],
 "metadata": {
  "colab": {
   "collapsed_sections": [],
   "name": "Learner_Notebook_Project_Classification.ipynb",
   "provenance": []
  },
  "kernelspec": {
   "display_name": "Python 3",
   "language": "python",
   "name": "python3"
  },
  "language_info": {
   "codemirror_mode": {
    "name": "ipython",
    "version": 3
   },
   "file_extension": ".py",
   "mimetype": "text/x-python",
   "name": "python",
   "nbconvert_exporter": "python",
   "pygments_lexer": "ipython3",
   "version": "3.8.8"
  }
 },
 "nbformat": 4,
 "nbformat_minor": 1
}
